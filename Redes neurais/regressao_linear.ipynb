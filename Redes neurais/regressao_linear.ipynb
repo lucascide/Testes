{
 "cells": [
  {
   "cell_type": "code",
   "execution_count": 1,
   "id": "48a336c5-4025-4869-9805-3f76eff95833",
   "metadata": {},
   "outputs": [],
   "source": [
    "import numpy as np\n",
    "import matplotlib.pyplot as plt"
   ]
  },
  {
   "cell_type": "code",
   "execution_count": 2,
   "id": "f47391f0-fe6e-4201-8411-4e46b59ecd70",
   "metadata": {},
   "outputs": [],
   "source": [
    "# Exemplosd de plots determinísticos"
   ]
  },
  {
   "cell_type": "code",
   "execution_count": 3,
   "id": "5125d834-8199-4769-8409-9f970c227fc3",
   "metadata": {},
   "outputs": [],
   "source": [
    "np.random.seed(42)"
   ]
  },
  {
   "cell_type": "code",
   "execution_count": null,
   "id": "2b587038-36d9-442d-815e-f94826c49940",
   "metadata": {},
   "outputs": [],
   "source": [
    "det_x = np.arrange"
   ]
  }
 ],
 "metadata": {
  "kernelspec": {
   "display_name": "Python 3 (ipykernel)",
   "language": "python",
   "name": "python3"
  },
  "language_info": {
   "codemirror_mode": {
    "name": "ipython",
    "version": 3
   },
   "file_extension": ".py",
   "mimetype": "text/x-python",
   "name": "python",
   "nbconvert_exporter": "python",
   "pygments_lexer": "ipython3",
   "version": "3.11.5"
  }
 },
 "nbformat": 4,
 "nbformat_minor": 5
}
